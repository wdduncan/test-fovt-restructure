{
 "cells": [
  {
   "cell_type": "markdown",
   "id": "37d0a701-2e57-4eb9-896b-8cfd6bca0079",
   "metadata": {},
   "source": [
    "# RANGES data to JSON-LD\n",
    "Example of transforming some ranges data to JSON-LD and then transorm to RDF."
   ]
  },
  {
   "cell_type": "code",
   "execution_count": 1,
   "id": "2cabfd20-08a2-4609-a5f3-325ccd58401a",
   "metadata": {},
   "outputs": [],
   "source": [
    "%load_ext autoreload\n",
    "%autoreload 2"
   ]
  },
  {
   "cell_type": "code",
   "execution_count": 2,
   "id": "0223e09d-c59f-4131-9a9c-dc69216d2df4",
   "metadata": {},
   "outputs": [],
   "source": [
    "import pandas as pd\n",
    "import numpy as np\n",
    "from rdflib import Graph, ConjunctiveGraph\n",
    "from pyld import jsonld\n",
    "import json"
   ]
  },
  {
   "cell_type": "markdown",
   "id": "5a9886a6-f66f-42e1-9d19-be5729b8d519",
   "metadata": {},
   "source": [
    "## load ASUoccurrence.csv"
   ]
  },
  {
   "cell_type": "code",
   "execution_count": 3,
   "id": "711eda47-83cc-46a6-a45b-acae565ccfdf",
   "metadata": {},
   "outputs": [
    {
     "data": {
      "text/plain": [
       "(8962, 50)"
      ]
     },
     "execution_count": 3,
     "metadata": {},
     "output_type": "execute_result"
    }
   ],
   "source": [
    "df = pd.read_csv(\"ASUoccurrence.csv\")\n",
    "df.shape"
   ]
  },
  {
   "cell_type": "markdown",
   "id": "1771f6d1-6374-4771-979f-161d91a9ada5",
   "metadata": {},
   "source": [
    "### load test data\n",
    "For testing just get the first two rows and first seven columns.  "
   ]
  },
  {
   "cell_type": "code",
   "execution_count": 4,
   "id": "bd0ed466-c871-41ce-96ed-258ca904d03d",
   "metadata": {},
   "outputs": [
    {
     "data": {
      "text/html": [
       "<div>\n",
       "<style scoped>\n",
       "    .dataframe tbody tr th:only-of-type {\n",
       "        vertical-align: middle;\n",
       "    }\n",
       "\n",
       "    .dataframe tbody tr th {\n",
       "        vertical-align: top;\n",
       "    }\n",
       "\n",
       "    .dataframe thead th {\n",
       "        text-align: right;\n",
       "    }\n",
       "</style>\n",
       "<table border=\"1\" class=\"dataframe\">\n",
       "  <thead>\n",
       "    <tr style=\"text-align: right;\">\n",
       "      <th></th>\n",
       "      <th>occurrenceID</th>\n",
       "      <th>institutionCode</th>\n",
       "      <th>catalogNumber</th>\n",
       "      <th>scientificName</th>\n",
       "      <th>order</th>\n",
       "      <th>family</th>\n",
       "      <th>genus</th>\n",
       "    </tr>\n",
       "  </thead>\n",
       "  <tbody>\n",
       "    <tr>\n",
       "      <th>0</th>\n",
       "      <td>2f44e05e-4eec-4ae9-8fc4-3477dcc2182f</td>\n",
       "      <td>ASU</td>\n",
       "      <td>ASUMAC009037</td>\n",
       "      <td>Xerospermophilus tereticaudus (Baird, 1858)</td>\n",
       "      <td>Rodentia</td>\n",
       "      <td>Sciuridae</td>\n",
       "      <td>Xerospermophilus</td>\n",
       "    </tr>\n",
       "    <tr>\n",
       "      <th>1</th>\n",
       "      <td>cf36733e-a21c-4d31-8eda-0419af164c77</td>\n",
       "      <td>ASU</td>\n",
       "      <td>ASUMAC009027</td>\n",
       "      <td>Otospermophilus variegatus (Erxleben, 1777)</td>\n",
       "      <td>Rodentia</td>\n",
       "      <td>Sciuridae</td>\n",
       "      <td>Otospermophilus</td>\n",
       "    </tr>\n",
       "  </tbody>\n",
       "</table>\n",
       "</div>"
      ],
      "text/plain": [
       "                           occurrenceID institutionCode catalogNumber  \\\n",
       "0  2f44e05e-4eec-4ae9-8fc4-3477dcc2182f             ASU  ASUMAC009037   \n",
       "1  cf36733e-a21c-4d31-8eda-0419af164c77             ASU  ASUMAC009027   \n",
       "\n",
       "                                scientificName     order     family  \\\n",
       "0  Xerospermophilus tereticaudus (Baird, 1858)  Rodentia  Sciuridae   \n",
       "1  Otospermophilus variegatus (Erxleben, 1777)  Rodentia  Sciuridae   \n",
       "\n",
       "              genus  \n",
       "0  Xerospermophilus  \n",
       "1   Otospermophilus  "
      ]
     },
     "execution_count": 4,
     "metadata": {},
     "output_type": "execute_result"
    }
   ],
   "source": [
    "test_df = df.head(2).iloc[:,0:7]\n",
    "test_df"
   ]
  },
  {
   "cell_type": "markdown",
   "id": "29d54526-b8ee-4d75-aa76-544ec7a81ee9",
   "metadata": {},
   "source": [
    "### fetch NCBItaxon IDs\n",
    "For the first two records, get the NCBItaxon IDs. For the full dataset, this will obviously need to be expanded.  \n",
    "This is just to show how to associate an IRI with a column value. The final solution will be much more involved."
   ]
  },
  {
   "cell_type": "code",
   "execution_count": 5,
   "id": "51c1da50-1cc6-4eb7-b2df-2ba3e4d10939",
   "metadata": {},
   "outputs": [
    {
     "data": {
      "text/html": [
       "<div>\n",
       "<style scoped>\n",
       "    .dataframe tbody tr th:only-of-type {\n",
       "        vertical-align: middle;\n",
       "    }\n",
       "\n",
       "    .dataframe tbody tr th {\n",
       "        vertical-align: top;\n",
       "    }\n",
       "\n",
       "    .dataframe thead th {\n",
       "        text-align: right;\n",
       "    }\n",
       "</style>\n",
       "<table border=\"1\" class=\"dataframe\">\n",
       "  <thead>\n",
       "    <tr style=\"text-align: right;\">\n",
       "      <th></th>\n",
       "      <th>occurrenceID</th>\n",
       "      <th>institutionCode</th>\n",
       "      <th>catalogNumber</th>\n",
       "      <th>scientificName</th>\n",
       "      <th>order</th>\n",
       "      <th>family</th>\n",
       "      <th>genus</th>\n",
       "      <th>taxon_id</th>\n",
       "    </tr>\n",
       "  </thead>\n",
       "  <tbody>\n",
       "    <tr>\n",
       "      <th>0</th>\n",
       "      <td>2f44e05e-4eec-4ae9-8fc4-3477dcc2182f</td>\n",
       "      <td>ASU</td>\n",
       "      <td>ASUMAC009037</td>\n",
       "      <td>Xerospermophilus tereticaudus (Baird, 1858)</td>\n",
       "      <td>Rodentia</td>\n",
       "      <td>Sciuridae</td>\n",
       "      <td>Xerospermophilus</td>\n",
       "      <td>ncbit:99860</td>\n",
       "    </tr>\n",
       "    <tr>\n",
       "      <th>1</th>\n",
       "      <td>cf36733e-a21c-4d31-8eda-0419af164c77</td>\n",
       "      <td>ASU</td>\n",
       "      <td>ASUMAC009027</td>\n",
       "      <td>Otospermophilus variegatus (Erxleben, 1777)</td>\n",
       "      <td>Rodentia</td>\n",
       "      <td>Sciuridae</td>\n",
       "      <td>Otospermophilus</td>\n",
       "      <td>ncbit:4572</td>\n",
       "    </tr>\n",
       "  </tbody>\n",
       "</table>\n",
       "</div>"
      ],
      "text/plain": [
       "                           occurrenceID institutionCode catalogNumber  \\\n",
       "0  2f44e05e-4eec-4ae9-8fc4-3477dcc2182f             ASU  ASUMAC009037   \n",
       "1  cf36733e-a21c-4d31-8eda-0419af164c77             ASU  ASUMAC009027   \n",
       "\n",
       "                                scientificName     order     family  \\\n",
       "0  Xerospermophilus tereticaudus (Baird, 1858)  Rodentia  Sciuridae   \n",
       "1  Otospermophilus variegatus (Erxleben, 1777)  Rodentia  Sciuridae   \n",
       "\n",
       "              genus     taxon_id  \n",
       "0  Xerospermophilus  ncbit:99860  \n",
       "1   Otospermophilus   ncbit:4572  "
      ]
     },
     "execution_count": 5,
     "metadata": {},
     "output_type": "execute_result"
    }
   ],
   "source": [
    "test_df['taxon_id'] = np.where(\n",
    "    test_df.scientificName.str.contains(\"Otospermophilus variegatus\"), \n",
    "    \"ncbit:4572\", \n",
    "    \"ncbit:99860\"\n",
    ")\n",
    "test_df"
   ]
  },
  {
   "cell_type": "markdown",
   "id": "94fe8124-3809-43ee-9249-2b749ff6428e",
   "metadata": {},
   "source": [
    "The dataframe is easily converted into JSON, which can then be converted to RDF using JSON LD (see below)."
   ]
  },
  {
   "cell_type": "code",
   "execution_count": 6,
   "id": "634d59bc-1e63-48e2-a00e-348f7bcfca51",
   "metadata": {},
   "outputs": [
    {
     "name": "stdout",
     "output_type": "stream",
     "text": [
      "[\n",
      "    {\n",
      "        \"occurrenceID\": \"2f44e05e-4eec-4ae9-8fc4-3477dcc2182f\",\n",
      "        \"institutionCode\": \"ASU\",\n",
      "        \"catalogNumber\": \"ASUMAC009037\",\n",
      "        \"scientificName\": \"Xerospermophilus tereticaudus (Baird, 1858)\",\n",
      "        \"order\": \"Rodentia\",\n",
      "        \"family\": \"Sciuridae\",\n",
      "        \"genus\": \"Xerospermophilus\",\n",
      "        \"taxon_id\": \"ncbit:99860\"\n",
      "    },\n",
      "    {\n",
      "        \"occurrenceID\": \"cf36733e-a21c-4d31-8eda-0419af164c77\",\n",
      "        \"institutionCode\": \"ASU\",\n",
      "        \"catalogNumber\": \"ASUMAC009027\",\n",
      "        \"scientificName\": \"Otospermophilus variegatus (Erxleben, 1777)\",\n",
      "        \"order\": \"Rodentia\",\n",
      "        \"family\": \"Sciuridae\",\n",
      "        \"genus\": \"Otospermophilus\",\n",
      "        \"taxon_id\": \"ncbit:4572\"\n",
      "    }\n",
      "]\n"
     ]
    }
   ],
   "source": [
    "print(json.dumps(test_df.to_dict(orient=\"records\"), indent=4))"
   ]
  },
  {
   "cell_type": "markdown",
   "id": "df36c1f6-7de0-4a83-9d34-6d458e62f814",
   "metadata": {},
   "source": [
    "## transform to JSON LD"
   ]
  },
  {
   "cell_type": "markdown",
   "id": "3475aa91-4050-4031-8719-48d141564304",
   "metadata": {},
   "source": [
    "### define JSON LD contexts\n",
    "We need to define some contexts for JSON LD which will be used to convert to RDF. In the context, I have specified the default namepace to `http://purl.obolibrary.org/obo/FOVT/data#`. This means that unless otherwise specified, a field name will be converted to an IRI by prepending `http://purl.obolibrary.org/obo/FOVT/data#`. E.g.`institutionCode: ASU` will be converted to `http://purl.obolibrary.org/obo/FOVT/data#institutionCode: ASU` in RDF. \n",
    "\n",
    "There is a **super annoying** caveat to this. For some reason, JSON LD 1.1 the does permit base IRIs to end with an underscore (e.g. `http://purl.obolibrary.org/obo/NCBITaxon_`). To handle cases like this, you are supposed add a `\"@prefix\": true` to the context. E.g.:\n",
    "```\n",
    "\"@context\": {\n",
    "  \"ncbit\" : {\n",
    "     \"@id\": \"http://purl.obolibary.org/NCBITaxon_\",\n",
    "     \"@prefix\": true\n",
    "   }\n",
    "}\n",
    "```\n",
    "\n",
    "Sadly, `rdflib` does not seem to recognize the `\"@prefix\": true` flag. So, in the context below, the NCBItaxon base IRI is `https://www.ncbi.nlm.nih.gov/Taxonomy/txid#` instead of `http://purl.obolibrary.org/obo/NCBITaxon_`. Note, the NCBItaxon base IRI ends with an `#`, which is another annoying detail. grrrr ...  \n",
    "\n",
    "The `pyLD` library does recognize the `\"@prefix\": true` flag. Below is an example use it with a context named `obo_context`."
   ]
  },
  {
   "cell_type": "code",
   "execution_count": 7,
   "id": "56456ee7-2819-4266-a26b-79529a904b45",
   "metadata": {},
   "outputs": [],
   "source": [
    "context = {\n",
    "    \"@vocab\": \"http://purl.obolibrary.org/obo/FOVT/data#\",\n",
    "    \"taxon_id\": {\"@type\": \"@id\"},\n",
    "    \"ncbit\": {\n",
    "        \"@id\": \"https://www.ncbi.nlm.nih.gov/Taxonomy/txid#\",\n",
    "        \"@type\": \"@id\"\n",
    "    }\n",
    "}"
   ]
  },
  {
   "cell_type": "markdown",
   "id": "38f18c58-f24f-480e-8b05-04e885244b55",
   "metadata": {},
   "source": [
    "### transform dataframe to json and load into an rdflib graph  \n",
    "Below the output is in `ntriples` to show that the conversions to IRIs. But, the output can be in turtle too.  \n",
    "The output is a bit difficult to read, but you very that `taxon_id` has an IRI as a value. See the line:\n",
    "```\n",
    "_:N16b203ad4b6d48b7809dff1fecea24ac <http://purl.obolibrary.org/obo/FOVT/data#taxon_id> <https://www.ncbi.nlm.nih.gov/Taxonomy/txid#4572> .\n",
    "```"
   ]
  },
  {
   "cell_type": "code",
   "execution_count": 8,
   "id": "e26f2534-4978-4fb0-a260-a75ed90e9938",
   "metadata": {},
   "outputs": [
    {
     "name": "stdout",
     "output_type": "stream",
     "text": [
      "_:Na6634507c1dd4966ada6ddf5925b2a27 <http://purl.obolibrary.org/obo/FOVT/data#order> \"Rodentia\" .\n",
      "_:N880c3127d9094ab18095c27f8f327bc6 <http://purl.obolibrary.org/obo/FOVT/data#family> \"Sciuridae\" .\n",
      "_:N880c3127d9094ab18095c27f8f327bc6 <http://purl.obolibrary.org/obo/FOVT/data#scientificName> \"Xerospermophilus tereticaudus (Baird, 1858)\" .\n",
      "_:N880c3127d9094ab18095c27f8f327bc6 <http://purl.obolibrary.org/obo/FOVT/data#occurrenceID> \"2f44e05e-4eec-4ae9-8fc4-3477dcc2182f\" .\n",
      "_:N880c3127d9094ab18095c27f8f327bc6 <http://purl.obolibrary.org/obo/FOVT/data#catalogNumber> \"ASUMAC009037\" .\n",
      "_:Na6634507c1dd4966ada6ddf5925b2a27 <http://purl.obolibrary.org/obo/FOVT/data#catalogNumber> \"ASUMAC009027\" .\n",
      "_:Na6634507c1dd4966ada6ddf5925b2a27 <http://purl.obolibrary.org/obo/FOVT/data#occurrenceID> \"cf36733e-a21c-4d31-8eda-0419af164c77\" .\n",
      "_:N880c3127d9094ab18095c27f8f327bc6 <http://purl.obolibrary.org/obo/FOVT/data#institutionCode> \"ASU\" .\n",
      "_:Na6634507c1dd4966ada6ddf5925b2a27 <http://purl.obolibrary.org/obo/FOVT/data#taxon_id> <https://www.ncbi.nlm.nih.gov/Taxonomy/txid#4572> .\n",
      "_:Na6634507c1dd4966ada6ddf5925b2a27 <http://purl.obolibrary.org/obo/FOVT/data#scientificName> \"Otospermophilus variegatus (Erxleben, 1777)\" .\n",
      "_:N880c3127d9094ab18095c27f8f327bc6 <http://purl.obolibrary.org/obo/FOVT/data#order> \"Rodentia\" .\n",
      "_:N880c3127d9094ab18095c27f8f327bc6 <http://purl.obolibrary.org/obo/FOVT/data#taxon_id> <https://www.ncbi.nlm.nih.gov/Taxonomy/txid#99860> .\n",
      "_:N880c3127d9094ab18095c27f8f327bc6 <http://purl.obolibrary.org/obo/FOVT/data#genus> \"Xerospermophilus\" .\n",
      "_:Na6634507c1dd4966ada6ddf5925b2a27 <http://purl.obolibrary.org/obo/FOVT/data#family> \"Sciuridae\" .\n",
      "_:Na6634507c1dd4966ada6ddf5925b2a27 <http://purl.obolibrary.org/obo/FOVT/data#institutionCode> \"ASU\" .\n",
      "_:Na6634507c1dd4966ada6ddf5925b2a27 <http://purl.obolibrary.org/obo/FOVT/data#genus> \"Otospermophilus\" .\n",
      "\n"
     ]
    }
   ],
   "source": [
    "g = Graph().parse(data=test_df.to_json(orient=\"records\"), format=\"json-ld\", context=context)\n",
    "# print(g.serialize(format=\"ttl\"))\n",
    "print(g.serialize(format=\"nt\"))"
   ]
  },
  {
   "cell_type": "markdown",
   "id": "f6614416-b8bd-4dd5-8df2-ecfda623ee70",
   "metadata": {},
   "source": [
    "## tranform using pyLD  \n",
    "`pyLD` will recognize the ` \"@prefix\": True` flag. So, we can OBO style IRI bases (i.e., ends with an `_`).  \n",
    "For example, see line:\n",
    "```\n",
    "_:b1 <http://purl.obolibrary.org/obo/FOVT/data#taxon_id> <http://purl.obolibrary.org/obo/NCBITaxon_4572> .\n",
    "```"
   ]
  },
  {
   "cell_type": "code",
   "execution_count": 9,
   "id": "8d4310c0-aefc-45db-ac5f-dc6ea7c8a9e7",
   "metadata": {},
   "outputs": [],
   "source": [
    "obo_context = {\n",
    "    \"@context\": {\n",
    "        \"@vocab\": \"http://purl.obolibrary.org/obo/FOVT/data#\",\n",
    "        \"taxon_id\": {\"@type\": \"@id\"},\n",
    "        \"ncbit\": {\n",
    "            \"@id\": \"http://purl.obolibrary.org/obo/NCBITaxon_\",\n",
    "            \"@prefix\": True\n",
    "        }\n",
    "    }\n",
    "}"
   ]
  },
  {
   "cell_type": "code",
   "execution_count": 10,
   "id": "7babb9c0-d540-4cbd-adc6-d7bd5a3a381e",
   "metadata": {},
   "outputs": [
    {
     "name": "stdout",
     "output_type": "stream",
     "text": [
      "_:b0 <http://purl.obolibrary.org/obo/FOVT/data#catalogNumber> \"ASUMAC009037\" .\n",
      "_:b0 <http://purl.obolibrary.org/obo/FOVT/data#family> \"Sciuridae\" .\n",
      "_:b0 <http://purl.obolibrary.org/obo/FOVT/data#genus> \"Xerospermophilus\" .\n",
      "_:b0 <http://purl.obolibrary.org/obo/FOVT/data#institutionCode> \"ASU\" .\n",
      "_:b0 <http://purl.obolibrary.org/obo/FOVT/data#occurrenceID> \"2f44e05e-4eec-4ae9-8fc4-3477dcc2182f\" .\n",
      "_:b0 <http://purl.obolibrary.org/obo/FOVT/data#order> \"Rodentia\" .\n",
      "_:b0 <http://purl.obolibrary.org/obo/FOVT/data#scientificName> \"Xerospermophilus tereticaudus (Baird, 1858)\" .\n",
      "_:b0 <http://purl.obolibrary.org/obo/FOVT/data#taxon_id> <http://purl.obolibrary.org/obo/NCBITaxon_99860> .\n",
      "_:b1 <http://purl.obolibrary.org/obo/FOVT/data#catalogNumber> \"ASUMAC009027\" .\n",
      "_:b1 <http://purl.obolibrary.org/obo/FOVT/data#family> \"Sciuridae\" .\n",
      "_:b1 <http://purl.obolibrary.org/obo/FOVT/data#genus> \"Otospermophilus\" .\n",
      "_:b1 <http://purl.obolibrary.org/obo/FOVT/data#institutionCode> \"ASU\" .\n",
      "_:b1 <http://purl.obolibrary.org/obo/FOVT/data#occurrenceID> \"cf36733e-a21c-4d31-8eda-0419af164c77\" .\n",
      "_:b1 <http://purl.obolibrary.org/obo/FOVT/data#order> \"Rodentia\" .\n",
      "_:b1 <http://purl.obolibrary.org/obo/FOVT/data#scientificName> \"Otospermophilus variegatus (Erxleben, 1777)\" .\n",
      "_:b1 <http://purl.obolibrary.org/obo/FOVT/data#taxon_id> <http://purl.obolibrary.org/obo/NCBITaxon_4572> .\n",
      "\n"
     ]
    }
   ],
   "source": [
    "rdf = jsonld.to_rdf(\n",
    "    {\"@context\": obo_context, \"@graph\": test_df.to_dict(orient=\"records\")},\n",
    "    {'format': 'application/n-quads'} # must use application/n-quad\n",
    ")\n",
    "print(rdf)"
   ]
  },
  {
   "cell_type": "markdown",
   "id": "b7f8ce7b-74fb-4ed7-a4a6-322cebdf28e0",
   "metadata": {},
   "source": [
    "If necessary, the `pyLD` RDF can be loaded into an `rdflib` graph. This might help for loading the RDF into a triple store.  \n",
    "Note: The output is converted to turtle instead of nquads."
   ]
  },
  {
   "cell_type": "code",
   "execution_count": 11,
   "id": "706b3ea2-b650-41f3-b169-a3f6b963d4f3",
   "metadata": {},
   "outputs": [
    {
     "name": "stdout",
     "output_type": "stream",
     "text": [
      "@prefix ns1: <http://purl.obolibrary.org/obo/FOVT/data#> .\n",
      "\n",
      "[] ns1:catalogNumber \"ASUMAC009037\" ;\n",
      "    ns1:family \"Sciuridae\" ;\n",
      "    ns1:genus \"Xerospermophilus\" ;\n",
      "    ns1:institutionCode \"ASU\" ;\n",
      "    ns1:occurrenceID \"2f44e05e-4eec-4ae9-8fc4-3477dcc2182f\" ;\n",
      "    ns1:order \"Rodentia\" ;\n",
      "    ns1:scientificName \"Xerospermophilus tereticaudus (Baird, 1858)\" ;\n",
      "    ns1:taxon_id <http://purl.obolibrary.org/obo/NCBITaxon_99860> .\n",
      "\n",
      "[] ns1:catalogNumber \"ASUMAC009027\" ;\n",
      "    ns1:family \"Sciuridae\" ;\n",
      "    ns1:genus \"Otospermophilus\" ;\n",
      "    ns1:institutionCode \"ASU\" ;\n",
      "    ns1:occurrenceID \"cf36733e-a21c-4d31-8eda-0419af164c77\" ;\n",
      "    ns1:order \"Rodentia\" ;\n",
      "    ns1:scientificName \"Otospermophilus variegatus (Erxleben, 1777)\" ;\n",
      "    ns1:taxon_id <http://purl.obolibrary.org/obo/NCBITaxon_4572> .\n",
      "\n",
      "\n"
     ]
    }
   ],
   "source": [
    "g = Graph().parse(data=rdf, format=\"nquads\")\n",
    "print(g.serialize(format=\"ttl\"))"
   ]
  },
  {
   "cell_type": "code",
   "execution_count": null,
   "id": "b19ccf19-4e0e-40bd-b437-a1e14a9de35a",
   "metadata": {},
   "outputs": [],
   "source": []
  }
 ],
 "metadata": {
  "kernelspec": {
   "display_name": "Python 3 (ipykernel)",
   "language": "python",
   "name": "python3"
  },
  "language_info": {
   "codemirror_mode": {
    "name": "ipython",
    "version": 3
   },
   "file_extension": ".py",
   "mimetype": "text/x-python",
   "name": "python",
   "nbconvert_exporter": "python",
   "pygments_lexer": "ipython3",
   "version": "3.11.9"
  }
 },
 "nbformat": 4,
 "nbformat_minor": 5
}
